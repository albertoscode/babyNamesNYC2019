{
 "cells": [
  {
   "cell_type": "code",
   "execution_count": 1,
   "id": "9aae5bbf",
   "metadata": {},
   "outputs": [],
   "source": [
    "# This file contains the producedures for getting a visualization of the outcome of the most popular baby names analysis.\n",
    "\n",
    "# I am going to start with the chart of the girls' names and then I will move on to the chart of the boys' names."
   ]
  },
  {
   "cell_type": "code",
   "execution_count": 2,
   "id": "2d645def",
   "metadata": {},
   "outputs": [],
   "source": [
    "# The first step is to import the necesarry tools (libraries) like \"Pandas\" and \"Matplotlib Pyplot\" as follow:"
   ]
  },
  {
   "cell_type": "code",
   "execution_count": 3,
   "id": "8f06c940",
   "metadata": {},
   "outputs": [],
   "source": [
    "import pandas as pd"
   ]
  },
  {
   "cell_type": "code",
   "execution_count": 4,
   "id": "cf19e41a",
   "metadata": {},
   "outputs": [],
   "source": [
    "import matplotlib.pyplot as plt"
   ]
  },
  {
   "cell_type": "code",
   "execution_count": 5,
   "id": "0bd57bd7",
   "metadata": {},
   "outputs": [],
   "source": [
    "# After importing the libraries, the next step will be to read the CSV file using Pandas as follows:"
   ]
  },
  {
   "cell_type": "code",
   "execution_count": 6,
   "id": "87f07bcb",
   "metadata": {},
   "outputs": [],
   "source": [
    "df_female = pd.read_csv(\"topTenFemaleNames2019.csv\")"
   ]
  },
  {
   "cell_type": "code",
   "execution_count": 7,
   "id": "d3c72622",
   "metadata": {},
   "outputs": [],
   "source": [
    "# Okay, now let's have a look at the \"df_female\" data frame "
   ]
  },
  {
   "cell_type": "code",
   "execution_count": 8,
   "id": "6646fbba",
   "metadata": {
    "scrolled": true
   },
   "outputs": [
    {
     "data": {
      "text/html": [
       "<div>\n",
       "<style scoped>\n",
       "    .dataframe tbody tr th:only-of-type {\n",
       "        vertical-align: middle;\n",
       "    }\n",
       "\n",
       "    .dataframe tbody tr th {\n",
       "        vertical-align: top;\n",
       "    }\n",
       "\n",
       "    .dataframe thead th {\n",
       "        text-align: right;\n",
       "    }\n",
       "</style>\n",
       "<table border=\"1\" class=\"dataframe\">\n",
       "  <thead>\n",
       "    <tr style=\"text-align: right;\">\n",
       "      <th></th>\n",
       "      <th>child_s_first_name</th>\n",
       "      <th>count</th>\n",
       "      <th>rank_by_name_count</th>\n",
       "    </tr>\n",
       "  </thead>\n",
       "  <tbody>\n",
       "    <tr>\n",
       "      <th>0</th>\n",
       "      <td>Emma</td>\n",
       "      <td>490</td>\n",
       "      <td>1.0</td>\n",
       "    </tr>\n",
       "    <tr>\n",
       "      <th>1</th>\n",
       "      <td>Olivia</td>\n",
       "      <td>450</td>\n",
       "      <td>2.0</td>\n",
       "    </tr>\n",
       "    <tr>\n",
       "      <th>2</th>\n",
       "      <td>Sophia</td>\n",
       "      <td>445</td>\n",
       "      <td>3.0</td>\n",
       "    </tr>\n",
       "    <tr>\n",
       "      <th>3</th>\n",
       "      <td>Mia</td>\n",
       "      <td>435</td>\n",
       "      <td>4.0</td>\n",
       "    </tr>\n",
       "    <tr>\n",
       "      <th>4</th>\n",
       "      <td>Isabella</td>\n",
       "      <td>398</td>\n",
       "      <td>5.0</td>\n",
       "    </tr>\n",
       "    <tr>\n",
       "      <th>5</th>\n",
       "      <td>Leah</td>\n",
       "      <td>355</td>\n",
       "      <td>6.0</td>\n",
       "    </tr>\n",
       "    <tr>\n",
       "      <th>6</th>\n",
       "      <td>Ava</td>\n",
       "      <td>349</td>\n",
       "      <td>7.0</td>\n",
       "    </tr>\n",
       "    <tr>\n",
       "      <th>7</th>\n",
       "      <td>Amelia</td>\n",
       "      <td>293</td>\n",
       "      <td>8.0</td>\n",
       "    </tr>\n",
       "    <tr>\n",
       "      <th>8</th>\n",
       "      <td>Chloe</td>\n",
       "      <td>290</td>\n",
       "      <td>9.0</td>\n",
       "    </tr>\n",
       "    <tr>\n",
       "      <th>9</th>\n",
       "      <td>Charlotte</td>\n",
       "      <td>283</td>\n",
       "      <td>10.0</td>\n",
       "    </tr>\n",
       "  </tbody>\n",
       "</table>\n",
       "</div>"
      ],
      "text/plain": [
       "  child_s_first_name  count  rank_by_name_count\n",
       "0               Emma    490                 1.0\n",
       "1             Olivia    450                 2.0\n",
       "2             Sophia    445                 3.0\n",
       "3                Mia    435                 4.0\n",
       "4           Isabella    398                 5.0\n",
       "5               Leah    355                 6.0\n",
       "6                Ava    349                 7.0\n",
       "7             Amelia    293                 8.0\n",
       "8              Chloe    290                 9.0\n",
       "9          Charlotte    283                10.0"
      ]
     },
     "execution_count": 8,
     "metadata": {},
     "output_type": "execute_result"
    }
   ],
   "source": [
    "df_female.head(11)"
   ]
  },
  {
   "cell_type": "code",
   "execution_count": 9,
   "id": "f53acbb1",
   "metadata": {},
   "outputs": [],
   "source": [
    "# Okay, everything looks good.\n",
    "\n",
    "# Important:\n",
    "\n",
    "# Keep in mind that in order to visually represent our data we need to determine which graph is best suited for our analysis\n",
    "# and this will depend on several things, for example, the audience, the purpose/goal and the actions/results we hope to get \n",
    "# from the audience by showing them our chart.\n",
    "\n",
    "# In my opinion, it is equally important to take into account the type of data we have, let's say numeric, categorical or \n",
    "# ordinal so that the graph can communicate the message and obtain the expected results.\n",
    "\n",
    "# For these analyses, I will be using a bar chart, so let's define the values for X and Y as follows:"
   ]
  },
  {
   "cell_type": "code",
   "execution_count": 10,
   "id": "275f0526",
   "metadata": {},
   "outputs": [],
   "source": [
    "x_female = df_female[\"count\"]"
   ]
  },
  {
   "cell_type": "code",
   "execution_count": 11,
   "id": "2b722b89",
   "metadata": {},
   "outputs": [],
   "source": [
    "y_female = df_female[\"child_s_first_name\"]"
   ]
  },
  {
   "cell_type": "code",
   "execution_count": 12,
   "id": "5dd6d122",
   "metadata": {},
   "outputs": [],
   "source": [
    "# Now I am going to configure the bar graph, save it and print it, as follows:"
   ]
  },
  {
   "cell_type": "code",
   "execution_count": 13,
   "id": "f697cef1",
   "metadata": {
    "scrolled": true
   },
   "outputs": [
    {
     "data": {
      "image/png": "[encoded data removed]",
      "text/plain": [
       "<Figure size 576x360 with 1 Axes>"
      ]
     },
     "metadata": {
      "needs_background": "light"
     },
     "output_type": "display_data"
    }
   ],
   "source": [
    "fig, ax1 = plt.subplots(figsize=(8, 5))\n",
    "\n",
    "ax1.barh(y_female, x_female, \n",
    "        color = \"plum\")\n",
    "\n",
    "ax1.invert_yaxis()\n",
    "\n",
    "ax1.set_xlabel(\"Number of Children\", \n",
    "              fontsize=12)\n",
    "\n",
    "ax1.set_ylabel(\"First Names\", \n",
    "              fontsize=12)\n",
    "\n",
    "ax1.set_title(\"The Most Popular Baby Girl Names in NYC 2019\", \n",
    "             fontsize=20,\n",
    "             fontweight=\"bold\")\n",
    "\n",
    "plt.annotate(\"Data source: City of New York\",\n",
    "            xy = (-0.12, -0.20),\n",
    "            xycoords=\"axes fraction\",\n",
    "            fontsize=9)\n",
    "\n",
    "plt.annotate(\"@albertoscode\",\n",
    "            xy = (.90, -0.20),\n",
    "            xycoords=\"axes fraction\",\n",
    "            fontsize=9)\n",
    "\n",
    "plt.savefig(\"babyGirlNamesChart.jpg\", \n",
    "            dpi=150,\n",
    "            bbox_inches=\"tight\")\n",
    "\n",
    "plt.show()"
   ]
  },
  {
   "cell_type": "code",
   "execution_count": 14,
   "id": "e691c366",
   "metadata": {},
   "outputs": [],
   "source": [
    "# Once I got the chart for the baby girl names, now I will proceed to configure the chart to display \n",
    "# the most popular baby boy names."
   ]
  },
  {
   "cell_type": "code",
   "execution_count": 15,
   "id": "e078b1f2",
   "metadata": {},
   "outputs": [],
   "source": [
    "# The next step will be to read the CSV file using Pandas as follows:"
   ]
  },
  {
   "cell_type": "code",
   "execution_count": 16,
   "id": "aab7347e",
   "metadata": {},
   "outputs": [],
   "source": [
    "df_male = pd.read_csv(\"topTenMaleNames2019.csv\")"
   ]
  },
  {
   "cell_type": "code",
   "execution_count": 17,
   "id": "95c0c865",
   "metadata": {},
   "outputs": [],
   "source": [
    "# Okay now let's have a look at the \"df_male\" data frame "
   ]
  },
  {
   "cell_type": "code",
   "execution_count": 18,
   "id": "9f1bae9f",
   "metadata": {
    "scrolled": true
   },
   "outputs": [
    {
     "data": {
      "text/html": [
       "<div>\n",
       "<style scoped>\n",
       "    .dataframe tbody tr th:only-of-type {\n",
       "        vertical-align: middle;\n",
       "    }\n",
       "\n",
       "    .dataframe tbody tr th {\n",
       "        vertical-align: top;\n",
       "    }\n",
       "\n",
       "    .dataframe thead th {\n",
       "        text-align: right;\n",
       "    }\n",
       "</style>\n",
       "<table border=\"1\" class=\"dataframe\">\n",
       "  <thead>\n",
       "    <tr style=\"text-align: right;\">\n",
       "      <th></th>\n",
       "      <th>child_s_first_name</th>\n",
       "      <th>count</th>\n",
       "      <th>rank_by_name_count</th>\n",
       "    </tr>\n",
       "  </thead>\n",
       "  <tbody>\n",
       "    <tr>\n",
       "      <th>0</th>\n",
       "      <td>Liam</td>\n",
       "      <td>743</td>\n",
       "      <td>1.0</td>\n",
       "    </tr>\n",
       "    <tr>\n",
       "      <th>1</th>\n",
       "      <td>Noah</td>\n",
       "      <td>655</td>\n",
       "      <td>2.0</td>\n",
       "    </tr>\n",
       "    <tr>\n",
       "      <th>2</th>\n",
       "      <td>Ethan</td>\n",
       "      <td>531</td>\n",
       "      <td>3.0</td>\n",
       "    </tr>\n",
       "    <tr>\n",
       "      <th>3</th>\n",
       "      <td>Jacob</td>\n",
       "      <td>482</td>\n",
       "      <td>4.0</td>\n",
       "    </tr>\n",
       "    <tr>\n",
       "      <th>4</th>\n",
       "      <td>Lucas</td>\n",
       "      <td>453</td>\n",
       "      <td>5.0</td>\n",
       "    </tr>\n",
       "    <tr>\n",
       "      <th>5</th>\n",
       "      <td>Aiden</td>\n",
       "      <td>424</td>\n",
       "      <td>6.0</td>\n",
       "    </tr>\n",
       "    <tr>\n",
       "      <th>6</th>\n",
       "      <td>Daniel</td>\n",
       "      <td>419</td>\n",
       "      <td>7.0</td>\n",
       "    </tr>\n",
       "    <tr>\n",
       "      <th>7</th>\n",
       "      <td>Michael</td>\n",
       "      <td>415</td>\n",
       "      <td>8.0</td>\n",
       "    </tr>\n",
       "    <tr>\n",
       "      <th>8</th>\n",
       "      <td>David</td>\n",
       "      <td>412</td>\n",
       "      <td>9.0</td>\n",
       "    </tr>\n",
       "    <tr>\n",
       "      <th>9</th>\n",
       "      <td>Matthew</td>\n",
       "      <td>403</td>\n",
       "      <td>10.0</td>\n",
       "    </tr>\n",
       "  </tbody>\n",
       "</table>\n",
       "</div>"
      ],
      "text/plain": [
       "  child_s_first_name  count  rank_by_name_count\n",
       "0               Liam    743                 1.0\n",
       "1               Noah    655                 2.0\n",
       "2              Ethan    531                 3.0\n",
       "3              Jacob    482                 4.0\n",
       "4              Lucas    453                 5.0\n",
       "5              Aiden    424                 6.0\n",
       "6             Daniel    419                 7.0\n",
       "7            Michael    415                 8.0\n",
       "8              David    412                 9.0\n",
       "9            Matthew    403                10.0"
      ]
     },
     "execution_count": 18,
     "metadata": {},
     "output_type": "execute_result"
    }
   ],
   "source": [
    "df_male.head(11)"
   ]
  },
  {
   "cell_type": "code",
   "execution_count": 19,
   "id": "c787d8e9",
   "metadata": {},
   "outputs": [],
   "source": [
    "# Okay, everything looks just fine as well.\n",
    "\n",
    "# Now let's define the values for X and for Y as follow: "
   ]
  },
  {
   "cell_type": "code",
   "execution_count": 20,
   "id": "49a5cce1",
   "metadata": {},
   "outputs": [],
   "source": [
    "x_male = df_male[\"count\"]"
   ]
  },
  {
   "cell_type": "code",
   "execution_count": 21,
   "id": "39cd8e8a",
   "metadata": {},
   "outputs": [],
   "source": [
    "y_male = df_male[\"child_s_first_name\"]"
   ]
  },
  {
   "cell_type": "code",
   "execution_count": 22,
   "id": "255038d0",
   "metadata": {},
   "outputs": [],
   "source": [
    "# Now I am going to configure the bar graph for baby boy names, save it and print it, as follows:"
   ]
  },
  {
   "cell_type": "code",
   "execution_count": 23,
   "id": "ab66d6a1",
   "metadata": {},
   "outputs": [
    {
     "data": {
      "image/png": "[encoded data removed]",
      "text/plain": [
       "<Figure size 576x360 with 1 Axes>"
      ]
     },
     "metadata": {
      "needs_background": "light"
     },
     "output_type": "display_data"
    }
   ],
   "source": [
    "figure, ax2 = plt.subplots(figsize=(8, 5))\n",
    "\n",
    "ax2.barh(y_male, \n",
    "        x_male, \n",
    "        color = \"royalblue\")\n",
    "\n",
    "ax2.invert_yaxis()\n",
    "\n",
    "ax2.set_xlabel(\"Number of Children\", \n",
    "               fontsize=12)\n",
    "\n",
    "ax2.set_ylabel(\"First Names\", \n",
    "               fontsize=12)\n",
    "\n",
    "ax2.set_title(\"The Most Popular Baby Boy Names in NYC 2019\", \n",
    "              fontsize=20,\n",
    "              fontweight=\"bold\")\n",
    "\n",
    "plt.annotate(\"Data source: City of New York\",\n",
    "            xy = (-0.12, -0.20),\n",
    "            xycoords=\"axes fraction\",\n",
    "            fontsize=9)\n",
    "\n",
    "plt.annotate(\"@albertoscode\",\n",
    "            xy = (.90, -0.20),\n",
    "            xycoords=\"axes fraction\",\n",
    "            fontsize=9)\n",
    "\n",
    "plt.savefig(\"babyBoyNamesChart.jpg\", \n",
    "            dpi=150,\n",
    "            bbox_inches=\"tight\")\n",
    "\n",
    "plt.show()"
   ]
  },
  {
   "cell_type": "code",
   "execution_count": 24,
   "id": "49fdaf19",
   "metadata": {},
   "outputs": [],
   "source": [
    "# And that's it\n",
    "\n",
    "# Thank you very much again!\n",
    "\n",
    "# Best regards,\n",
    "\n",
    "# Alberto F. Hernandez"
   ]
  },
  {
   "cell_type": "code",
   "execution_count": null,
   "id": "593bb76c",
   "metadata": {},
   "outputs": [],
   "source": []
  }
 ],
 "metadata": {
  "kernelspec": {
   "display_name": "Python 3 (ipykernel)",
   "language": "python",
   "name": "python3"
  },
  "language_info": {
   "codemirror_mode": {
    "name": "ipython",
    "version": 3
   },
   "file_extension": ".py",
   "mimetype": "text/x-python",
   "name": "python",
   "nbconvert_exporter": "python",
   "pygments_lexer": "ipython3",
   "version": "3.10.0"
  }
 },
 "nbformat": 4,
 "nbformat_minor": 5
}
